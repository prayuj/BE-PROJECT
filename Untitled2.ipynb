{
 "cells": [
  {
   "cell_type": "code",
   "execution_count": null,
   "metadata": {},
   "outputs": [],
   "source": [
    "def scheduleBatchCourse(row_id_to_schedule, no_of_hours_to_schedule_when_assigning, room_name, rows, columns, target_matrix, lecturer_id, student_group_id, batch, column_number):\n",
    "    no_of_hours_scheduled = 0\n",
    "    for k in range(no_of_hours_to_schedule_when_assigning):\n",
    "        day = rows[row_id_to_schedule+k][\"day\"]\n",
    "        hour = rows[row_id_to_schedule+k][\"hour\"]\n",
    "        room = rows[row_id_to_schedule+k][\"room\"]\n",
    "        print(day, hour, room_name)\n",
    "        for j in range(len(columns)):\n",
    "            target_matrix[row_id_to_schedule+k][j] = -1\n",
    "        for i in range(len(rows)):\n",
    "            for j in range(len(columns)):\n",
    "                if rows[i][\"day\"] == day and rows[i][\"hour\"] == hour and columns[j][\"lecturer\"] == lecturer_id and target_matrix[i][j]!=1:\n",
    "                    target_matrix[i][j] = -1\n",
    "                elif rows[i][\"day\"] == day and rows[i][\"hour\"]==hour and columns[j][\"student_group\"] == student_group_id and columns[n][\"subset\"] == \"all\" and target_matrix[i][j]!=1:\n",
    "                    target_matrix[i][j] = -1\n",
    "                elif rows[i][\"day\"] == day and rows[i][\"hour\"]== hour and columns[j][\"student_group\"] == student_group_id and columns[j][\"subset\"] == \"batch\" and columns[j][\"batch\"] == batch and target_matrix[i][j]!=1:\n",
    "                    target_matrix[i][j] = -1\n",
    "        target_matrix[row_id_to_schedule+k][column_number] = 1\n",
    "        no_of_hours_scheduled+=1\n",
    "    return target_matrix, no_of_hours_scheduled"
   ]
  }
 ],
 "metadata": {
  "kernelspec": {
   "display_name": "Python 3",
   "language": "python",
   "name": "python3"
  },
  "language_info": {
   "codemirror_mode": {
    "name": "ipython",
    "version": 3
   },
   "file_extension": ".py",
   "mimetype": "text/x-python",
   "name": "python",
   "nbconvert_exporter": "python",
   "pygments_lexer": "ipython3",
   "version": "3.7.0"
  }
 },
 "nbformat": 4,
 "nbformat_minor": 2
}
