{
 "cells": [
  {
   "cell_type": "code",
   "execution_count": 22,
   "metadata": {},
   "outputs": [],
   "source": [
    "averages = []\n",
    "maximums = []\n",
    "minimums = []"
   ]
  },
  {
   "cell_type": "code",
   "execution_count": 1,
   "metadata": {},
   "outputs": [],
   "source": [
    "import pickle"
   ]
  },
  {
   "cell_type": "code",
   "execution_count": 23,
   "metadata": {},
   "outputs": [],
   "source": [
    "file = open('intial_population_chromosome_to_fitness_dictionary','rb')\n",
    "intial_population_chromosome_to_fitness_dictionary = pickle.load(file)\n",
    "file.close()\n",
    "summation = 0\n",
    "intial_maximum = 0\n",
    "intial_minimum = 100\n",
    "for i in intial_population_chromosome_to_fitness_dictionary.values():\n",
    "    if i > intial_maximum:\n",
    "        intial_maximum = i\n",
    "    if i < intial_minimum:\n",
    "        intial_minimum = i\n",
    "    summation+=i\n",
    "average_intial_generation = summation/len(intial_population_chromosome_to_fitness_dictionary)\n",
    "averages.append(average_intial_generation)\n",
    "maximums.append(intial_maximum)\n",
    "minimums.append(intial_minimum)"
   ]
  },
  {
   "cell_type": "code",
   "execution_count": 24,
   "metadata": {},
   "outputs": [
    {
     "name": "stdout",
     "output_type": "stream",
     "text": [
      "Average:  92.07831325301203\n",
      "Maximum:  97.59036144578313\n",
      "Minimum:  84.33734939759036\n"
     ]
    }
   ],
   "source": [
    "print(\"Average: \",average_intial_generation)\n",
    "print(\"Maximum: \",intial_maximum)\n",
    "print(\"Minimum: \", intial_minimum)"
   ]
  },
  {
   "cell_type": "code",
   "execution_count": 25,
   "metadata": {},
   "outputs": [],
   "source": [
    "file = open('first_generation_chromosome_to_fitness_dictionary','rb')\n",
    "first_generation_chromosome_to_fitness_dictionary = pickle.load(file)\n",
    "file.close()\n",
    "summation = 0\n",
    "first_maximum = 0\n",
    "first_minimum = 100\n",
    "for i in first_generation_chromosome_to_fitness_dictionary.values():\n",
    "    if i > first_maximum:\n",
    "        first_maximum = i\n",
    "    if i < first_minimum:\n",
    "        first_minimum = i\n",
    "    summation+=i\n",
    "average_first_generation = summation/len(first_generation_chromosome_to_fitness_dictionary)\n",
    "averages.append(average_first_generation)\n",
    "maximums.append(first_maximum)\n",
    "minimums.append(first_minimum)"
   ]
  },
  {
   "cell_type": "code",
   "execution_count": 26,
   "metadata": {},
   "outputs": [
    {
     "name": "stdout",
     "output_type": "stream",
     "text": [
      "Average:  90.39156626506022\n",
      "Maximum:  95.18072289156626\n",
      "Minimum:  85.5421686746988\n"
     ]
    }
   ],
   "source": [
    "print(\"Average: \",average_first_generation)\n",
    "print(\"Maximum: \",first_maximum)\n",
    "print(\"Minimum: \", first_minimum)"
   ]
  },
  {
   "cell_type": "code",
   "execution_count": 27,
   "metadata": {},
   "outputs": [],
   "source": [
    "file = open('second_generation_chromosome_to_fitness_dictionary','rb')\n",
    "second_generation_chromosome_to_fitness_dictionary = pickle.load(file)\n",
    "file.close()\n",
    "summation = 0\n",
    "second_maximum = 0\n",
    "second_minimum = 100\n",
    "for i in second_generation_chromosome_to_fitness_dictionary.values():\n",
    "    if i > second_maximum:\n",
    "        second_maximum = i\n",
    "    if i < second_minimum:\n",
    "        second_minimum = i\n",
    "    summation+=i\n",
    "average_second_generation = summation/len(second_generation_chromosome_to_fitness_dictionary)\n",
    "averages.append(average_second_generation)\n",
    "maximums.append(second_maximum)\n",
    "minimums.append(second_minimum)"
   ]
  },
  {
   "cell_type": "code",
   "execution_count": 28,
   "metadata": {},
   "outputs": [
    {
     "name": "stdout",
     "output_type": "stream",
     "text": [
      "Average:  92.34939759036143\n",
      "Maximum:  98.19277108433735\n",
      "Minimum:  87.34939759036145\n"
     ]
    }
   ],
   "source": [
    "print(\"Average: \",average_second_generation)\n",
    "print(\"Maximum: \",second_maximum)\n",
    "print(\"Minimum: \", second_minimum)"
   ]
  },
  {
   "cell_type": "code",
   "execution_count": 29,
   "metadata": {},
   "outputs": [],
   "source": [
    "file = open('third_generation_chromosome_to_fitness_dictionary','rb')\n",
    "third_generation_chromosome_to_fitness_dictionary = pickle.load(file)\n",
    "file.close()\n",
    "summation = 0\n",
    "third_maximum = 0\n",
    "third_minimum = 100\n",
    "for i in third_generation_chromosome_to_fitness_dictionary.values():\n",
    "    if i > third_maximum:\n",
    "        third_maximum = i\n",
    "    if i < third_minimum:\n",
    "        third_minimum = i\n",
    "    summation+=i\n",
    "average_third_generation = summation/len(third_generation_chromosome_to_fitness_dictionary)\n",
    "averages.append(average_third_generation)\n",
    "maximums.append(third_maximum)\n",
    "minimums.append(third_minimum)"
   ]
  },
  {
   "cell_type": "code",
   "execution_count": 30,
   "metadata": {},
   "outputs": [
    {
     "name": "stdout",
     "output_type": "stream",
     "text": [
      "Average:  93.43690551680406\n",
      "Maximum:  98.19277108433735\n",
      "Minimum:  87.95180722891567\n"
     ]
    }
   ],
   "source": [
    "print(\"Average: \",average_third_generation)\n",
    "print(\"Maximum: \",third_maximum)\n",
    "print(\"Minimum: \", third_minimum)"
   ]
  },
  {
   "cell_type": "code",
   "execution_count": 31,
   "metadata": {},
   "outputs": [],
   "source": [
    "file = open('fourth_generation_chromosome_to_fitness_dictionary','rb')\n",
    "fourth_generation_chromosome_to_fitness_dictionary = pickle.load(file)\n",
    "file.close()\n",
    "summation = 0\n",
    "fourth_maximum = 0\n",
    "fourth_minimum = 100\n",
    "for i in fourth_generation_chromosome_to_fitness_dictionary.values():\n",
    "    if i > fourth_maximum:\n",
    "        fourth_maximum = i\n",
    "    if i < fourth_minimum:\n",
    "        fourth_minimum = i\n",
    "    summation+=i\n",
    "average_fourth_generation = summation/len(fourth_generation_chromosome_to_fitness_dictionary)\n",
    "averages.append(average_fourth_generation)\n",
    "maximums.append(fourth_maximum)\n",
    "minimums.append(fourth_minimum)"
   ]
  },
  {
   "cell_type": "code",
   "execution_count": 32,
   "metadata": {},
   "outputs": [
    {
     "name": "stdout",
     "output_type": "stream",
     "text": [
      "Average:  94.14802065404473\n",
      "Maximum:  98.79518072289157\n",
      "Minimum:  86.144578313253\n"
     ]
    }
   ],
   "source": [
    "print(\"Average: \",average_fourth_generation)\n",
    "print(\"Maximum: \",fourth_maximum)\n",
    "print(\"Minimum: \", fourth_minimum)"
   ]
  },
  {
   "cell_type": "code",
   "execution_count": 33,
   "metadata": {},
   "outputs": [],
   "source": [
    "file = open('fifth_generation_chromosome_to_fitness_dictionary','rb')\n",
    "fifth_generation_chromosome_to_fitness_dictionary = pickle.load(file)\n",
    "file.close()\n",
    "summation = 0\n",
    "fifth_maximum = 0\n",
    "fifth_minimum = 100\n",
    "for i in fifth_generation_chromosome_to_fitness_dictionary.values():\n",
    "    if i > fifth_maximum:\n",
    "        fifth_maximum = i\n",
    "    if i < fifth_minimum:\n",
    "        fifth_minimum = i\n",
    "    summation+=i\n",
    "average_fifth_generation = summation/len(fifth_generation_chromosome_to_fitness_dictionary)\n",
    "averages.append(average_fifth_generation)\n",
    "maximums.append(fifth_maximum)\n",
    "minimums.append(fifth_minimum)"
   ]
  },
  {
   "cell_type": "code",
   "execution_count": 34,
   "metadata": {},
   "outputs": [
    {
     "name": "stdout",
     "output_type": "stream",
     "text": [
      "Average:  93.6271401395054\n",
      "Maximum:  98.19277108433735\n",
      "Minimum:  86.74698795180723\n"
     ]
    }
   ],
   "source": [
    "print(\"Average: \",average_fifth_generation)\n",
    "print(\"Maximum: \",fifth_maximum)\n",
    "print(\"Minimum: \", fifth_minimum)"
   ]
  },
  {
   "cell_type": "code",
   "execution_count": 35,
   "metadata": {},
   "outputs": [],
   "source": [
    "file = open('sixth_generation_chromosome_to_fitness_dictionary','rb')\n",
    "sixth_generation_chromosome_to_fitness_dictionary = pickle.load(file)\n",
    "file.close()\n",
    "summation = 0\n",
    "sixth_maximum = 0\n",
    "sixth_minimum = 100\n",
    "for i in sixth_generation_chromosome_to_fitness_dictionary.values():\n",
    "    if i > sixth_maximum:\n",
    "        sixth_maximum = i\n",
    "    if i < sixth_minimum:\n",
    "        sixth_minimum = i\n",
    "    summation+=i\n",
    "average_sixth_generation = summation/len(sixth_generation_chromosome_to_fitness_dictionary)\n",
    "averages.append(average_sixth_generation)\n",
    "maximums.append(sixth_maximum)\n",
    "minimums.append(sixth_minimum)"
   ]
  },
  {
   "cell_type": "code",
   "execution_count": 36,
   "metadata": {},
   "outputs": [
    {
     "name": "stdout",
     "output_type": "stream",
     "text": [
      "Average:  93.65884590995562\n",
      "Maximum:  97.59036144578313\n",
      "Minimum:  87.95180722891567\n"
     ]
    }
   ],
   "source": [
    "print(\"Average: \",average_sixth_generation)\n",
    "print(\"Maximum: \",sixth_maximum)\n",
    "print(\"Minimum: \", sixth_minimum)"
   ]
  },
  {
   "cell_type": "code",
   "execution_count": 37,
   "metadata": {},
   "outputs": [],
   "source": [
    "file = open('seventh_generation_chromosome_to_fitness_dictionary','rb')\n",
    "seventh_generation_chromosome_to_fitness_dictionary = pickle.load(file)\n",
    "file.close()\n",
    "summation = 0\n",
    "seventh_maximum = 0\n",
    "seventh_minimum = 100\n",
    "for i in seventh_generation_chromosome_to_fitness_dictionary.values():\n",
    "    if i > seventh_maximum:\n",
    "        seventh_maximum = i\n",
    "    if i < seventh_minimum:\n",
    "        seventh_minimum = i\n",
    "    summation+=i\n",
    "average_seventh_generation = summation/len(seventh_generation_chromosome_to_fitness_dictionary)\n",
    "averages.append(average_seventh_generation)\n",
    "maximums.append(seventh_maximum)\n",
    "minimums.append(seventh_minimum)"
   ]
  },
  {
   "cell_type": "code",
   "execution_count": 38,
   "metadata": {},
   "outputs": [
    {
     "name": "stdout",
     "output_type": "stream",
     "text": [
      "Average:  94.26276534710267\n",
      "Maximum:  96.98795180722891\n",
      "Minimum:  86.74698795180723\n"
     ]
    }
   ],
   "source": [
    "print(\"Average: \",average_seventh_generation)\n",
    "print(\"Maximum: \",seventh_maximum)\n",
    "print(\"Minimum: \", seventh_minimum)"
   ]
  },
  {
   "cell_type": "code",
   "execution_count": 39,
   "metadata": {},
   "outputs": [],
   "source": [
    "file = open('eigth_generation_chromosome_to_fitness_dictionary','rb')\n",
    "eigth_generation_chromosome_to_fitness_dictionary = pickle.load(file)\n",
    "file.close()\n",
    "summation = 0\n",
    "eigth_maximum = 0\n",
    "eigth_minimum = 100\n",
    "for i in eigth_generation_chromosome_to_fitness_dictionary.values():\n",
    "    if i > eigth_maximum:\n",
    "        eigth_maximum = i\n",
    "    if i < eigth_minimum:\n",
    "        eigth_minimum = i\n",
    "    summation+=i\n",
    "average_eigth_generation = summation/len(eigth_generation_chromosome_to_fitness_dictionary)\n",
    "averages.append(average_eigth_generation)\n",
    "maximums.append(eigth_maximum)\n",
    "minimums.append(eigth_minimum)"
   ]
  },
  {
   "cell_type": "code",
   "execution_count": 40,
   "metadata": {},
   "outputs": [
    {
     "name": "stdout",
     "output_type": "stream",
     "text": [
      "Average:  94.826364280652\n",
      "Maximum:  100.0\n",
      "Minimum:  89.1566265060241\n"
     ]
    }
   ],
   "source": [
    "print(\"Average: \",average_eigth_generation)\n",
    "print(\"Maximum: \",eigth_maximum)\n",
    "print(\"Minimum: \", eigth_minimum)"
   ]
  },
  {
   "cell_type": "code",
   "execution_count": 41,
   "metadata": {},
   "outputs": [],
   "source": [
    "import matplotlib.pyplot as plt"
   ]
  },
  {
   "cell_type": "code",
   "execution_count": 47,
   "metadata": {},
   "outputs": [
    {
     "data": {
      "image/png": "[encoded data removed]",
      "text/plain": [
       "<Figure size 432x288 with 1 Axes>"
      ]
     },
     "metadata": {
      "needs_background": "light"
     },
     "output_type": "display_data"
    }
   ],
   "source": [
    "plt.plot(averages)\n",
    "plt.plot(maximums)\n",
    "plt.plot(minimums)\n",
    "plt.ylabel('Fitness')\n",
    "plt.show()"
   ]
  },
  {
   "cell_type": "code",
   "execution_count": null,
   "metadata": {},
   "outputs": [],
   "source": []
  }
 ],
 "metadata": {
  "kernelspec": {
   "display_name": "Python 3",
   "language": "python",
   "name": "python3"
  },
  "language_info": {
   "codemirror_mode": {
    "name": "ipython",
    "version": 3
   },
   "file_extension": ".py",
   "mimetype": "text/x-python",
   "name": "python",
   "nbconvert_exporter": "python",
   "pygments_lexer": "ipython3",
   "version": "3.7.0"
  }
 },
 "nbformat": 4,
 "nbformat_minor": 2
}
