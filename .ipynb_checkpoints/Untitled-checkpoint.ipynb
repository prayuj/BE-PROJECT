{
 "cells": [
  {
   "cell_type": "code",
   "execution_count": 43,
   "metadata": {},
   "outputs": [],
   "source": [
    "class Course:\n",
    "    def __init__(self, id, name, no_of_hours, no_of_valid_rooms, valid_rooms, max_no_hours_per_day, max_consecutive_hours):\n",
    "        self.id = id\n",
    "        self.name = name\n",
    "        self.no_of_hours = no_of_hours\n",
    "        self.no_of_valid_rooms= no_of_valid_rooms\n",
    "        self.valid_rooms = valid_rooms\n",
    "        self.max_no_hours_per_day = max_no_hours_per_day\n",
    "        self.max_consecutive_hours = max_consecutive_hours\n",
    "\n",
    "class Student_Group:\n",
    "    def __init__(self, id, name, courses):\n",
    "        self.id = id\n",
    "        self.name = name\n",
    "        self.courses = courses\n",
    "\n",
    "class Lecturer:\n",
    "    def __init__(self, id, name, department, max_no_hours_per_day, max_no_hours_per_week, max_consecutive_hours, rank, availability, courses):\n",
    "        self.id = id\n",
    "        self.name = name\n",
    "        self.department = department\n",
    "        self.max_no_hours_per_day = max_no_hours_per_day\n",
    "        self.max_no_hours_per_week = max_no_hours_per_week\n",
    "        self.max_consecutive_hours = max_consecutive_hours\n",
    "        self.rank = rank\n",
    "        self.availability = availability\n",
    "        self.courses = courses\n",
    "        \n",
    "class Room:\n",
    "    def __init__(self, id, name):\n",
    "        self.id = id\n",
    "        self.name = name\n",
    "class Day:\n",
    "    def __init__(self, id, name):\n",
    "        self.id = id\n",
    "        self.name = name\n",
    "class Hour:\n",
    "    def __init__(self, id, name):\n",
    "        self.id = id\n",
    "        self.name = name"
   ]
  },
  {
   "cell_type": "code",
   "execution_count": 44,
   "metadata": {},
   "outputs": [
    {
     "name": "stdout",
     "output_type": "stream",
     "text": [
      "i= 0\n",
      "i= 7\n",
      "i= 8\n",
      "i= 16\n",
      "i= 17\n",
      "i= 22\n",
      "i= 23\n",
      "i= 121\n",
      "i= 122\n",
      "['CSC301']\n",
      "['CSC302']\n",
      "['CSC303']\n",
      "['CSC304']\n",
      "['CSC305']\n",
      "['CSC501']\n",
      "['CSC502']\n",
      "['CSC503']\n",
      "['CSC504']\n",
      "['CSC505']\n",
      "['CSDLO5013']\n",
      "['CSL701']\n",
      "['CSL702']\n",
      "['CSL703']\n",
      "['CSDL70X']\n",
      "['ILO70XX']\n",
      "i= 146\n",
      "i= 147\n",
      "CSC301\n",
      "CSC302\n",
      "CSC303\n",
      "CSC502\n",
      "CSC304\n",
      "CSC305\n",
      "CSC501\n",
      "CSC505\n",
      "CSC503\n",
      "CSC504\n",
      "CSL702\n",
      "CSL701\n",
      "CSL703\n",
      "CSDLO5013\n",
      "CSDL70X\n",
      "ILO70XX\n"
     ]
    }
   ],
   "source": [
    "course_list = []\n",
    "lecturer_list = []\n",
    "student_group_list = []\n",
    "rooms_list = []\n",
    "days_list = []\n",
    "hours_list = []\n",
    "no_of_days = -1\n",
    "no_of_hours = -1\n",
    "\n",
    "with open(\"input.txt\", \"r\") as f:\n",
    "    lines = f.readlines()\n",
    "    i = 0\n",
    "    while(i<len(lines)):\n",
    "        lines[i] = lines[i][:-1]\n",
    "        print(\"i=\",i)\n",
    "        if lines[i] == \"Days\":\n",
    "            i+=1\n",
    "            no_of_days = int(lines[i][:-1])\n",
    "            i+=1\n",
    "            id = 0\n",
    "            for j in range(i, i+no_of_days):\n",
    "                name = lines[j][:-1]\n",
    "                days_list.append(Day(id, name))\n",
    "                id+=1\n",
    "            i+=no_of_days\n",
    "        elif lines[i] ==\"Hours\":\n",
    "            i+=1\n",
    "            no_of_hours = int(lines[i][:-1])\n",
    "            i+=1\n",
    "            id = 0\n",
    "            for j in range(i, i+no_of_hours):\n",
    "                name = lines[j][:-1]\n",
    "                hours_list.append(Hour(id, name))\n",
    "                id+=1\n",
    "            i+=no_of_hours\n",
    "        elif lines[i] == \"Courses\":\n",
    "            i+=1\n",
    "            number_of_courses = int(lines[i][:-1])\n",
    "            i+=1\n",
    "            count = 0\n",
    "            while(count<number_of_courses):\n",
    "                course_id, course_name = lines[i][:-1].split(\" \", 1)\n",
    "                i+=1\n",
    "                max_no_hours_per_day = lines[i][:-1]\n",
    "                i+=1\n",
    "                no_hours_per_week = lines[i][:-1]\n",
    "                i+=1\n",
    "                max_consecutive_hours = lines[i][:-1]\n",
    "                i+=1\n",
    "                no_of_valid_rooms = int(lines[i][:-1])\n",
    "                i+=1\n",
    "                valid_rooms = []\n",
    "                for j in range(i, i+no_of_valid_rooms):\n",
    "                    valid_rooms.append(lines[j][:-1])\n",
    "                i+=no_of_valid_rooms\n",
    "                course_list.append(Course(course_id, course_name, no_hours_per_week, no_of_valid_rooms, valid_rooms, max_no_hours_per_day, max_consecutive_hours))\n",
    "                count+=1\n",
    "        elif lines[i] == \"Rooms\":\n",
    "            i+=1\n",
    "            number_of_rooms = int(lines[i][:-1])\n",
    "            i+=1\n",
    "            id = 0\n",
    "            for j in range(i, i+number_of_rooms):\n",
    "                name = lines[j][:-1]\n",
    "                rooms_list.append(Room(id, name))\n",
    "                id+=1\n",
    "            i+=number_of_rooms\n",
    "        elif lines[i] == \"Student Groups\":\n",
    "            i+=1\n",
    "            number_of_student_groups = int(lines[i][:-1])\n",
    "            i+=1\n",
    "            id = 0\n",
    "            while(id<number_of_student_groups):\n",
    "                name = lines[i][:-1]\n",
    "                i+=1\n",
    "                number_of_courses = int(lines[i][:-1])\n",
    "                i+=1\n",
    "                course_ids = []\n",
    "                while(number_of_courses>0):\n",
    "                    print(lines[i][:-1].split())\n",
    "                    course = lines[i][:-1]\n",
    "                    course_ids.append(course)\n",
    "                    i+=1\n",
    "                    number_of_courses-=1\n",
    "                student_group_list.append(Student_Group(id, name, course_ids))\n",
    "                id+=1\n",
    "            \n",
    "        elif lines[i] == \"Lecturers\":\n",
    "            i+=1\n",
    "            number_of_lecturers = int(lines[i][:-1])\n",
    "            i+=1\n",
    "            id = 0\n",
    "            while(id<number_of_lecturers):\n",
    "                name = lines[i][:-1]\n",
    "                i+=1\n",
    "                department = lines[i][:-1]\n",
    "                i+=1\n",
    "                max_no_hours_per_day = int(lines[i][:-1])\n",
    "                i+=1\n",
    "                max_no_hours_per_week = int(lines[i][:-1])\n",
    "                i+=1\n",
    "                max_consecutive_hours = int(lines[i][:-1])\n",
    "                i+=1\n",
    "                rank = lines[i][:-1]\n",
    "                i+=1\n",
    "                availability = [int(x) for x in lines[i][:-1].split()]\n",
    "                i+=1\n",
    "                no_of_courses = int(lines[i][:-1])\n",
    "                i+=1\n",
    "                course_ids = []\n",
    "                while(no_of_courses>0):\n",
    "                    print(lines[i][:-1])\n",
    "                    course = lines[i][:-1]\n",
    "                    course_ids.append(course)\n",
    "                    i+=1\n",
    "                    no_of_courses-=1\n",
    "                lecturer_list.append(Lecturer(id, name, department, max_no_hours_per_day, max_no_hours_per_week, max_consecutive_hours, rank, availability, course_ids))\n",
    "                id+=1\n",
    "        else:\n",
    "            i+=1"
   ]
  },
  {
   "cell_type": "code",
   "execution_count": 45,
   "metadata": {},
   "outputs": [
    {
     "data": {
      "text/plain": [
       "['CSDL70X', 'ILO70XX']"
      ]
     },
     "execution_count": 45,
     "metadata": {},
     "output_type": "execute_result"
    }
   ],
   "source": [
    "lecturer_list[10].courses"
   ]
  },
  {
   "cell_type": "code",
   "execution_count": 46,
   "metadata": {},
   "outputs": [
    {
     "name": "stdout",
     "output_type": "stream",
     "text": [
      "CSC301\n",
      "CSC302\n",
      "CSC303\n",
      "CSC304\n",
      "CSC305\n",
      "CSC501\n",
      "CSC502\n",
      "CSC503\n",
      "CSC504\n",
      "CSC505\n",
      "CSDLO5013\n",
      "CSL701\n",
      "CSL702\n",
      "CSL703\n",
      "CSDL70X\n",
      "ILO70XX\n"
     ]
    }
   ],
   "source": [
    "columns = {}\n",
    "hours_for_columns = {}\n",
    "count = 0\n",
    "for sg in student_group_list:\n",
    "    for course_sg in sg.courses:\n",
    "        for lecturer in lecturer_list:\n",
    "            for course_l in lecturer.courses:\n",
    "                if course_sg == course_l:\n",
    "                    print(course_sg)\n",
    "                    columns[count] = {\"lecturer\":lecturer.id, \"student_group\":sg.id, \"course\": course_l}\n",
    "                    for course in course_list:\n",
    "                        if course.id == course_l:\n",
    "                            hours_for_columns[count] = course.no_of_hours\n",
    "                    count+=1"
   ]
  },
  {
   "cell_type": "code",
   "execution_count": 47,
   "metadata": {},
   "outputs": [
    {
     "data": {
      "text/plain": [
       "{0: {'lecturer': 0, 'student_group': 0, 'course': 'CSC301'},\n",
       " 1: {'lecturer': 1, 'student_group': 0, 'course': 'CSC302'},\n",
       " 2: {'lecturer': 2, 'student_group': 0, 'course': 'CSC303'},\n",
       " 3: {'lecturer': 3, 'student_group': 0, 'course': 'CSC304'},\n",
       " 4: {'lecturer': 4, 'student_group': 0, 'course': 'CSC305'},\n",
       " 5: {'lecturer': 5, 'student_group': 1, 'course': 'CSC501'},\n",
       " 6: {'lecturer': 2, 'student_group': 1, 'course': 'CSC502'},\n",
       " 7: {'lecturer': 6, 'student_group': 1, 'course': 'CSC503'},\n",
       " 8: {'lecturer': 6, 'student_group': 1, 'course': 'CSC504'},\n",
       " 9: {'lecturer': 5, 'student_group': 1, 'course': 'CSC505'},\n",
       " 10: {'lecturer': 9, 'student_group': 1, 'course': 'CSDLO5013'},\n",
       " 11: {'lecturer': 8, 'student_group': 2, 'course': 'CSL701'},\n",
       " 12: {'lecturer': 7, 'student_group': 2, 'course': 'CSL702'},\n",
       " 13: {'lecturer': 9, 'student_group': 2, 'course': 'CSL703'},\n",
       " 14: {'lecturer': 10, 'student_group': 2, 'course': 'CSDL70X'},\n",
       " 15: {'lecturer': 10, 'student_group': 2, 'course': 'ILO70XX'}}"
      ]
     },
     "execution_count": 47,
     "metadata": {},
     "output_type": "execute_result"
    }
   ],
   "source": [
    "columns"
   ]
  },
  {
   "cell_type": "code",
   "execution_count": 48,
   "metadata": {},
   "outputs": [
    {
     "data": {
      "text/plain": [
       "{0: '5',\n",
       " 1: '5',\n",
       " 2: '5',\n",
       " 3: '5',\n",
       " 4: '5',\n",
       " 5: '5',\n",
       " 6: '5',\n",
       " 7: '5',\n",
       " 8: '5',\n",
       " 9: '5',\n",
       " 10: '5',\n",
       " 11: '5',\n",
       " 12: '5',\n",
       " 13: '5',\n",
       " 14: '5',\n",
       " 15: '5'}"
      ]
     },
     "execution_count": 48,
     "metadata": {},
     "output_type": "execute_result"
    }
   ],
   "source": [
    "hours_for_columns"
   ]
  },
  {
   "cell_type": "code",
   "execution_count": 49,
   "metadata": {},
   "outputs": [],
   "source": [
    "column_numbers = [x for x in range(0, 16)]"
   ]
  },
  {
   "cell_type": "code",
   "execution_count": 50,
   "metadata": {},
   "outputs": [
    {
     "data": {
      "text/plain": [
       "[0, 1, 2, 3, 4, 5, 6, 7, 8, 9, 10, 11, 12, 13, 14, 15]"
      ]
     },
     "execution_count": 50,
     "metadata": {},
     "output_type": "execute_result"
    }
   ],
   "source": [
    "column_numbers"
   ]
  },
  {
   "cell_type": "code",
   "execution_count": 51,
   "metadata": {},
   "outputs": [],
   "source": [
    "import random"
   ]
  },
  {
   "cell_type": "code",
   "execution_count": 52,
   "metadata": {},
   "outputs": [],
   "source": [
    "random.shuffle(column_numbers)"
   ]
  },
  {
   "cell_type": "code",
   "execution_count": 53,
   "metadata": {},
   "outputs": [
    {
     "data": {
      "text/plain": [
       "[11, 7, 2, 1, 12, 9, 15, 8, 0, 5, 13, 14, 4, 6, 10, 3]"
      ]
     },
     "execution_count": 53,
     "metadata": {},
     "output_type": "execute_result"
    }
   ],
   "source": [
    "column_numbers"
   ]
  },
  {
   "cell_type": "code",
   "execution_count": 57,
   "metadata": {},
   "outputs": [],
   "source": [
    "rows = {}\n",
    "count = 0\n",
    "for room in rooms_list:\n",
    "    for day in days_list:\n",
    "        for hour in hours_list:\n",
    "            rows[count] = {\"day\": day.id, \"hour\": hour.id, \"room\": room.id}\n",
    "            count+=1"
   ]
  },
  {
   "cell_type": "code",
   "execution_count": 58,
   "metadata": {},
   "outputs": [
    {
     "data": {
      "text/plain": [
       "{0: {'day': 0, 'hour': 0, 'room': 0},\n",
       " 1: {'day': 0, 'hour': 1, 'room': 0},\n",
       " 2: {'day': 0, 'hour': 2, 'room': 0},\n",
       " 3: {'day': 0, 'hour': 3, 'room': 0},\n",
       " 4: {'day': 0, 'hour': 4, 'room': 0},\n",
       " 5: {'day': 0, 'hour': 5, 'room': 0},\n",
       " 6: {'day': 1, 'hour': 0, 'room': 0},\n",
       " 7: {'day': 1, 'hour': 1, 'room': 0},\n",
       " 8: {'day': 1, 'hour': 2, 'room': 0},\n",
       " 9: {'day': 1, 'hour': 3, 'room': 0},\n",
       " 10: {'day': 1, 'hour': 4, 'room': 0},\n",
       " 11: {'day': 1, 'hour': 5, 'room': 0},\n",
       " 12: {'day': 2, 'hour': 0, 'room': 0},\n",
       " 13: {'day': 2, 'hour': 1, 'room': 0},\n",
       " 14: {'day': 2, 'hour': 2, 'room': 0},\n",
       " 15: {'day': 2, 'hour': 3, 'room': 0},\n",
       " 16: {'day': 2, 'hour': 4, 'room': 0},\n",
       " 17: {'day': 2, 'hour': 5, 'room': 0},\n",
       " 18: {'day': 3, 'hour': 0, 'room': 0},\n",
       " 19: {'day': 3, 'hour': 1, 'room': 0},\n",
       " 20: {'day': 3, 'hour': 2, 'room': 0},\n",
       " 21: {'day': 3, 'hour': 3, 'room': 0},\n",
       " 22: {'day': 3, 'hour': 4, 'room': 0},\n",
       " 23: {'day': 3, 'hour': 5, 'room': 0},\n",
       " 24: {'day': 4, 'hour': 0, 'room': 0},\n",
       " 25: {'day': 4, 'hour': 1, 'room': 0},\n",
       " 26: {'day': 4, 'hour': 2, 'room': 0},\n",
       " 27: {'day': 4, 'hour': 3, 'room': 0},\n",
       " 28: {'day': 4, 'hour': 4, 'room': 0},\n",
       " 29: {'day': 4, 'hour': 5, 'room': 0},\n",
       " 30: {'day': 0, 'hour': 0, 'room': 1},\n",
       " 31: {'day': 0, 'hour': 1, 'room': 1},\n",
       " 32: {'day': 0, 'hour': 2, 'room': 1},\n",
       " 33: {'day': 0, 'hour': 3, 'room': 1},\n",
       " 34: {'day': 0, 'hour': 4, 'room': 1},\n",
       " 35: {'day': 0, 'hour': 5, 'room': 1},\n",
       " 36: {'day': 1, 'hour': 0, 'room': 1},\n",
       " 37: {'day': 1, 'hour': 1, 'room': 1},\n",
       " 38: {'day': 1, 'hour': 2, 'room': 1},\n",
       " 39: {'day': 1, 'hour': 3, 'room': 1},\n",
       " 40: {'day': 1, 'hour': 4, 'room': 1},\n",
       " 41: {'day': 1, 'hour': 5, 'room': 1},\n",
       " 42: {'day': 2, 'hour': 0, 'room': 1},\n",
       " 43: {'day': 2, 'hour': 1, 'room': 1},\n",
       " 44: {'day': 2, 'hour': 2, 'room': 1},\n",
       " 45: {'day': 2, 'hour': 3, 'room': 1},\n",
       " 46: {'day': 2, 'hour': 4, 'room': 1},\n",
       " 47: {'day': 2, 'hour': 5, 'room': 1},\n",
       " 48: {'day': 3, 'hour': 0, 'room': 1},\n",
       " 49: {'day': 3, 'hour': 1, 'room': 1},\n",
       " 50: {'day': 3, 'hour': 2, 'room': 1},\n",
       " 51: {'day': 3, 'hour': 3, 'room': 1},\n",
       " 52: {'day': 3, 'hour': 4, 'room': 1},\n",
       " 53: {'day': 3, 'hour': 5, 'room': 1},\n",
       " 54: {'day': 4, 'hour': 0, 'room': 1},\n",
       " 55: {'day': 4, 'hour': 1, 'room': 1},\n",
       " 56: {'day': 4, 'hour': 2, 'room': 1},\n",
       " 57: {'day': 4, 'hour': 3, 'room': 1},\n",
       " 58: {'day': 4, 'hour': 4, 'room': 1},\n",
       " 59: {'day': 4, 'hour': 5, 'room': 1},\n",
       " 60: {'day': 0, 'hour': 0, 'room': 2},\n",
       " 61: {'day': 0, 'hour': 1, 'room': 2},\n",
       " 62: {'day': 0, 'hour': 2, 'room': 2},\n",
       " 63: {'day': 0, 'hour': 3, 'room': 2},\n",
       " 64: {'day': 0, 'hour': 4, 'room': 2},\n",
       " 65: {'day': 0, 'hour': 5, 'room': 2},\n",
       " 66: {'day': 1, 'hour': 0, 'room': 2},\n",
       " 67: {'day': 1, 'hour': 1, 'room': 2},\n",
       " 68: {'day': 1, 'hour': 2, 'room': 2},\n",
       " 69: {'day': 1, 'hour': 3, 'room': 2},\n",
       " 70: {'day': 1, 'hour': 4, 'room': 2},\n",
       " 71: {'day': 1, 'hour': 5, 'room': 2},\n",
       " 72: {'day': 2, 'hour': 0, 'room': 2},\n",
       " 73: {'day': 2, 'hour': 1, 'room': 2},\n",
       " 74: {'day': 2, 'hour': 2, 'room': 2},\n",
       " 75: {'day': 2, 'hour': 3, 'room': 2},\n",
       " 76: {'day': 2, 'hour': 4, 'room': 2},\n",
       " 77: {'day': 2, 'hour': 5, 'room': 2},\n",
       " 78: {'day': 3, 'hour': 0, 'room': 2},\n",
       " 79: {'day': 3, 'hour': 1, 'room': 2},\n",
       " 80: {'day': 3, 'hour': 2, 'room': 2},\n",
       " 81: {'day': 3, 'hour': 3, 'room': 2},\n",
       " 82: {'day': 3, 'hour': 4, 'room': 2},\n",
       " 83: {'day': 3, 'hour': 5, 'room': 2},\n",
       " 84: {'day': 4, 'hour': 0, 'room': 2},\n",
       " 85: {'day': 4, 'hour': 1, 'room': 2},\n",
       " 86: {'day': 4, 'hour': 2, 'room': 2},\n",
       " 87: {'day': 4, 'hour': 3, 'room': 2},\n",
       " 88: {'day': 4, 'hour': 4, 'room': 2},\n",
       " 89: {'day': 4, 'hour': 5, 'room': 2}}"
      ]
     },
     "execution_count": 58,
     "metadata": {},
     "output_type": "execute_result"
    }
   ],
   "source": [
    "rows"
   ]
  },
  {
   "cell_type": "code",
   "execution_count": 59,
   "metadata": {},
   "outputs": [
    {
     "data": {
      "text/plain": [
       "[11, 7, 2, 1, 12, 9, 15, 8, 0, 5, 13, 14, 4, 6, 10, 3]"
      ]
     },
     "execution_count": 59,
     "metadata": {},
     "output_type": "execute_result"
    }
   ],
   "source": [
    "column_numbers"
   ]
  },
  {
   "cell_type": "code",
   "execution_count": 60,
   "metadata": {},
   "outputs": [
    {
     "name": "stdout",
     "output_type": "stream",
     "text": [
      "{'lecturer': 8, 'student_group': 2, 'course': 'CSL701'}\n",
      "{'lecturer': 6, 'student_group': 1, 'course': 'CSC503'}\n",
      "{'lecturer': 2, 'student_group': 0, 'course': 'CSC303'}\n",
      "{'lecturer': 1, 'student_group': 0, 'course': 'CSC302'}\n",
      "{'lecturer': 7, 'student_group': 2, 'course': 'CSL702'}\n",
      "{'lecturer': 5, 'student_group': 1, 'course': 'CSC505'}\n",
      "{'lecturer': 10, 'student_group': 2, 'course': 'ILO70XX'}\n",
      "{'lecturer': 6, 'student_group': 1, 'course': 'CSC504'}\n",
      "{'lecturer': 0, 'student_group': 0, 'course': 'CSC301'}\n",
      "{'lecturer': 5, 'student_group': 1, 'course': 'CSC501'}\n",
      "{'lecturer': 9, 'student_group': 2, 'course': 'CSL703'}\n",
      "{'lecturer': 10, 'student_group': 2, 'course': 'CSDL70X'}\n",
      "{'lecturer': 4, 'student_group': 0, 'course': 'CSC305'}\n",
      "{'lecturer': 2, 'student_group': 1, 'course': 'CSC502'}\n",
      "{'lecturer': 9, 'student_group': 1, 'course': 'CSDLO5013'}\n",
      "{'lecturer': 3, 'student_group': 0, 'course': 'CSC304'}\n"
     ]
    }
   ],
   "source": [
    "for column_number in column_numbers:\n",
    "    print(columns[column_number])"
   ]
  },
  {
   "cell_type": "code",
   "execution_count": 24,
   "metadata": {},
   "outputs": [],
   "source": [
    "import numpy as np"
   ]
  },
  {
   "cell_type": "code",
   "execution_count": 25,
   "metadata": {},
   "outputs": [],
   "source": [
    "target_matrix = np.zeros((len(rows), len(columns)))"
   ]
  },
  {
   "cell_type": "code",
   "execution_count": 26,
   "metadata": {},
   "outputs": [
    {
     "data": {
      "text/plain": [
       "array([[0., 0., 0., ..., 0., 0., 0.],\n",
       "       [0., 0., 0., ..., 0., 0., 0.],\n",
       "       [0., 0., 0., ..., 0., 0., 0.],\n",
       "       ...,\n",
       "       [0., 0., 0., ..., 0., 0., 0.],\n",
       "       [0., 0., 0., ..., 0., 0., 0.],\n",
       "       [0., 0., 0., ..., 0., 0., 0.]])"
      ]
     },
     "execution_count": 26,
     "metadata": {},
     "output_type": "execute_result"
    }
   ],
   "source": [
    "target_matrix"
   ]
  },
  {
   "cell_type": "code",
   "execution_count": 27,
   "metadata": {},
   "outputs": [
    {
     "data": {
      "text/plain": [
       "{'lecturer': 5, 'student_group': 1, 'course': 'CSC501'}"
      ]
     },
     "execution_count": 27,
     "metadata": {},
     "output_type": "execute_result"
    }
   ],
   "source": [
    "columns[5]"
   ]
  },
  {
   "cell_type": "code",
   "execution_count": 28,
   "metadata": {},
   "outputs": [
    {
     "data": {
      "text/plain": [
       "array([0., 0., 0., 0., 0., 0., 0., 0., 0., 0., 0., 0., 0., 0., 0., 0.])"
      ]
     },
     "execution_count": 28,
     "metadata": {},
     "output_type": "execute_result"
    }
   ],
   "source": [
    "target_matrix[0]"
   ]
  },
  {
   "cell_type": "code",
   "execution_count": 47,
   "metadata": {},
   "outputs": [],
   "source": [
    "def fillTargetMatrix(column_numbers, columns, hours_for_columns, rows):\n",
    "    target_matrix = np.zeros((len(rows), len(columns)))\n",
    "    for column_number in column_numbers:\n",
    "        course_name = columns[column_number]['course']\n",
    "        lecturer = columns[column_number]['lecturer']\n",
    "        student_group = columns[column_number]['student_group']\n",
    "        th = hours_for_columns[column_number]\n",
    "        print(course_name, lecturer, student_group, th)\n",
    "        valid_rows = []\n",
    "        for i in range(len(rows)):\n",
    "            if rows[i][\"room\"] == student_group:\n",
    "                valid_rows.append(i)\n",
    "        row_count = 0\n",
    "#         random.shuffle(valid_rows)\n",
    "        print(valid_rows)\n",
    "        while(th>0 and row_count<len(valid_rows)):\n",
    "            row_number = valid_rows[row_count]\n",
    "            if target_matrix[row_number][column_number] == 0:\n",
    "                day = rows[row_number][\"day\"]\n",
    "                hour = rows[row_number][\"hour\"]\n",
    "                lecturer = columns[column_number][\"lecturer\"]\n",
    "        #         print(day, hour, lecturer)\n",
    "                for j in range(len(columns)):\n",
    "                    target_matrix[row_number][j] = -1\n",
    "                for i in range(len(rows)):\n",
    "                    for j in range(len(columns)):\n",
    "                        if rows[i][\"day\"] == day and rows[i][\"hour\"]==hour and columns[j][\"lecturer\"] == lecturer:\n",
    "        #                     print(i, j)\n",
    "                            target_matrix[i][j] = -1\n",
    "                target_matrix[row_number][column_number] = 1\n",
    "                th-=1   \n",
    "            row_count+=1\n",
    "        print(th)\n",
    "    return target_matrix"
   ]
  },
  {
   "cell_type": "code",
   "execution_count": 48,
   "metadata": {},
   "outputs": [
    {
     "name": "stdout",
     "output_type": "stream",
     "text": [
      "CSL702 7 2 5\n",
      "[60, 61, 62, 63, 64, 65, 66, 67, 68, 69, 70, 71, 72, 73, 74, 75, 76, 77, 78, 79, 80, 81, 82, 83, 84, 85, 86, 87, 88, 89]\n",
      "0\n",
      "CSC504 6 1 5\n",
      "[30, 31, 32, 33, 34, 35, 36, 37, 38, 39, 40, 41, 42, 43, 44, 45, 46, 47, 48, 49, 50, 51, 52, 53, 54, 55, 56, 57, 58, 59]\n",
      "0\n",
      "CSDL70X 10 2 5\n",
      "[60, 61, 62, 63, 64, 65, 66, 67, 68, 69, 70, 71, 72, 73, 74, 75, 76, 77, 78, 79, 80, 81, 82, 83, 84, 85, 86, 87, 88, 89]\n",
      "0\n",
      "CSC501 5 1 5\n",
      "[30, 31, 32, 33, 34, 35, 36, 37, 38, 39, 40, 41, 42, 43, 44, 45, 46, 47, 48, 49, 50, 51, 52, 53, 54, 55, 56, 57, 58, 59]\n",
      "0\n",
      "CSC301 0 0 5\n",
      "[0, 1, 2, 3, 4, 5, 6, 7, 8, 9, 10, 11, 12, 13, 14, 15, 16, 17, 18, 19, 20, 21, 22, 23, 24, 25, 26, 27, 28, 29]\n",
      "0\n",
      "CSC505 5 1 5\n",
      "[30, 31, 32, 33, 34, 35, 36, 37, 38, 39, 40, 41, 42, 43, 44, 45, 46, 47, 48, 49, 50, 51, 52, 53, 54, 55, 56, 57, 58, 59]\n",
      "0\n",
      "CSC503 6 1 5\n",
      "[30, 31, 32, 33, 34, 35, 36, 37, 38, 39, 40, 41, 42, 43, 44, 45, 46, 47, 48, 49, 50, 51, 52, 53, 54, 55, 56, 57, 58, 59]\n",
      "0\n",
      "CSC305 4 0 5\n",
      "[0, 1, 2, 3, 4, 5, 6, 7, 8, 9, 10, 11, 12, 13, 14, 15, 16, 17, 18, 19, 20, 21, 22, 23, 24, 25, 26, 27, 28, 29]\n",
      "0\n",
      "CSC502 2 1 5\n",
      "[30, 31, 32, 33, 34, 35, 36, 37, 38, 39, 40, 41, 42, 43, 44, 45, 46, 47, 48, 49, 50, 51, 52, 53, 54, 55, 56, 57, 58, 59]\n",
      "0\n",
      "CSL703 9 2 5\n",
      "[60, 61, 62, 63, 64, 65, 66, 67, 68, 69, 70, 71, 72, 73, 74, 75, 76, 77, 78, 79, 80, 81, 82, 83, 84, 85, 86, 87, 88, 89]\n",
      "0\n",
      "ILO70XX 10 2 5\n",
      "[60, 61, 62, 63, 64, 65, 66, 67, 68, 69, 70, 71, 72, 73, 74, 75, 76, 77, 78, 79, 80, 81, 82, 83, 84, 85, 86, 87, 88, 89]\n",
      "0\n",
      "CSDLO5013 9 1 5\n",
      "[30, 31, 32, 33, 34, 35, 36, 37, 38, 39, 40, 41, 42, 43, 44, 45, 46, 47, 48, 49, 50, 51, 52, 53, 54, 55, 56, 57, 58, 59]\n",
      "0\n",
      "CSC304 3 0 5\n",
      "[0, 1, 2, 3, 4, 5, 6, 7, 8, 9, 10, 11, 12, 13, 14, 15, 16, 17, 18, 19, 20, 21, 22, 23, 24, 25, 26, 27, 28, 29]\n",
      "0\n",
      "CSC303 2 0 5\n",
      "[0, 1, 2, 3, 4, 5, 6, 7, 8, 9, 10, 11, 12, 13, 14, 15, 16, 17, 18, 19, 20, 21, 22, 23, 24, 25, 26, 27, 28, 29]\n",
      "0\n",
      "CSL701 8 2 5\n",
      "[60, 61, 62, 63, 64, 65, 66, 67, 68, 69, 70, 71, 72, 73, 74, 75, 76, 77, 78, 79, 80, 81, 82, 83, 84, 85, 86, 87, 88, 89]\n",
      "0\n",
      "CSC302 1 0 5\n",
      "[0, 1, 2, 3, 4, 5, 6, 7, 8, 9, 10, 11, 12, 13, 14, 15, 16, 17, 18, 19, 20, 21, 22, 23, 24, 25, 26, 27, 28, 29]\n",
      "0\n"
     ]
    }
   ],
   "source": [
    "target_matrix = fillTargetMatrix(column_numbers, columns, hours_for_columns, rows)"
   ]
  },
  {
   "cell_type": "code",
   "execution_count": 31,
   "metadata": {},
   "outputs": [
    {
     "data": {
      "text/plain": [
       "[12, 8, 14, 5, 0, 9, 7, 4, 6, 13, 15, 10, 3, 2, 11, 1]"
      ]
     },
     "execution_count": 31,
     "metadata": {},
     "output_type": "execute_result"
    }
   ],
   "source": [
    "column_numbers"
   ]
  },
  {
   "cell_type": "code",
   "execution_count": 32,
   "metadata": {},
   "outputs": [
    {
     "data": {
      "text/plain": [
       "array([-1., -1., -1., -1., -1., -1., -1., -1., -1., -1., -1.,  1., -1.,\n",
       "       -1., -1., -1.])"
      ]
     },
     "execution_count": 32,
     "metadata": {},
     "output_type": "execute_result"
    }
   ],
   "source": [
    "target_matrix[81]"
   ]
  },
  {
   "cell_type": "code",
   "execution_count": 33,
   "metadata": {},
   "outputs": [
    {
     "data": {
      "text/plain": [
       "array([-70., -70., -73., -72., -71., -73., -73., -72., -72., -73., -72.,\n",
       "       -71., -71., -72., -71., -71.])"
      ]
     },
     "execution_count": 33,
     "metadata": {},
     "output_type": "execute_result"
    }
   ],
   "source": [
    "np.sum(target_matrix, axis=0)"
   ]
  },
  {
   "cell_type": "code",
   "execution_count": 34,
   "metadata": {},
   "outputs": [
    {
     "name": "stdout",
     "output_type": "stream",
     "text": [
      "5.0\n",
      "5.0\n",
      "5.0\n",
      "5.0\n",
      "5.0\n",
      "5.0\n",
      "5.0\n",
      "5.0\n",
      "5.0\n",
      "5.0\n",
      "5.0\n",
      "5.0\n",
      "5.0\n",
      "5.0\n",
      "5.0\n",
      "5.0\n"
     ]
    }
   ],
   "source": [
    "for j in range(len(columns)):\n",
    "    sum = 0\n",
    "    for i in range(len(rows)):\n",
    "        if target_matrix[i][j] > 0:\n",
    "            sum += target_matrix[i][j]\n",
    "    print(sum)"
   ]
  },
  {
   "cell_type": "code",
   "execution_count": 35,
   "metadata": {},
   "outputs": [],
   "source": [
    "import pandas as pd"
   ]
  },
  {
   "cell_type": "code",
   "execution_count": 36,
   "metadata": {},
   "outputs": [],
   "source": [
    "student_group = 2\n",
    "count = 1\n",
    "weekdays = [\"Mon\", \"Tue\", \"Wed\", \"Thur\", \"Fri\"]\n",
    "lectures = []\n",
    "for i in range(len(rows)):\n",
    "    for j in range(len(columns)):\n",
    "        if columns[j][\"student_group\"] == student_group and target_matrix[i][j]==1:\n",
    "            lectures.append((i, j))"
   ]
  },
  {
   "cell_type": "code",
   "execution_count": 37,
   "metadata": {},
   "outputs": [
    {
     "data": {
      "text/plain": [
       "[(60, 12),\n",
       " (61, 14),\n",
       " (62, 12),\n",
       " (63, 11),\n",
       " (65, 12),\n",
       " (67, 12),\n",
       " (68, 14),\n",
       " (70, 13),\n",
       " (71, 14),\n",
       " (72, 11),\n",
       " (73, 14),\n",
       " (74, 13),\n",
       " (75, 11),\n",
       " (76, 15),\n",
       " (77, 15),\n",
       " (78, 11),\n",
       " (79, 15),\n",
       " (80, 12),\n",
       " (81, 11),\n",
       " (83, 14),\n",
       " (84, 13),\n",
       " (85, 15),\n",
       " (86, 13),\n",
       " (87, 13),\n",
       " (88, 15)]"
      ]
     },
     "execution_count": 37,
     "metadata": {},
     "output_type": "execute_result"
    }
   ],
   "source": [
    "lectures"
   ]
  },
  {
   "cell_type": "code",
   "execution_count": 38,
   "metadata": {},
   "outputs": [
    {
     "name": "stdout",
     "output_type": "stream",
     "text": [
      "{'lecturer': 7, 'student_group': 2, 'course': 'CSL702'} 0 0\n",
      "{'lecturer': 10, 'student_group': 2, 'course': 'CSDL70X'} 0 1\n",
      "{'lecturer': 7, 'student_group': 2, 'course': 'CSL702'} 0 2\n",
      "{'lecturer': 8, 'student_group': 2, 'course': 'CSL701'} 0 3\n",
      "{'lecturer': 7, 'student_group': 2, 'course': 'CSL702'} 0 5\n",
      "{'lecturer': 7, 'student_group': 2, 'course': 'CSL702'} 1 1\n",
      "{'lecturer': 10, 'student_group': 2, 'course': 'CSDL70X'} 1 2\n",
      "{'lecturer': 9, 'student_group': 2, 'course': 'CSL703'} 1 4\n",
      "{'lecturer': 10, 'student_group': 2, 'course': 'CSDL70X'} 1 5\n",
      "{'lecturer': 8, 'student_group': 2, 'course': 'CSL701'} 2 0\n",
      "{'lecturer': 10, 'student_group': 2, 'course': 'CSDL70X'} 2 1\n",
      "{'lecturer': 9, 'student_group': 2, 'course': 'CSL703'} 2 2\n",
      "{'lecturer': 8, 'student_group': 2, 'course': 'CSL701'} 2 3\n",
      "{'lecturer': 10, 'student_group': 2, 'course': 'ILO70XX'} 2 4\n",
      "{'lecturer': 10, 'student_group': 2, 'course': 'ILO70XX'} 2 5\n",
      "{'lecturer': 8, 'student_group': 2, 'course': 'CSL701'} 3 0\n",
      "{'lecturer': 10, 'student_group': 2, 'course': 'ILO70XX'} 3 1\n",
      "{'lecturer': 7, 'student_group': 2, 'course': 'CSL702'} 3 2\n",
      "{'lecturer': 8, 'student_group': 2, 'course': 'CSL701'} 3 3\n",
      "{'lecturer': 10, 'student_group': 2, 'course': 'CSDL70X'} 3 5\n",
      "{'lecturer': 9, 'student_group': 2, 'course': 'CSL703'} 4 0\n",
      "{'lecturer': 10, 'student_group': 2, 'course': 'ILO70XX'} 4 1\n",
      "{'lecturer': 9, 'student_group': 2, 'course': 'CSL703'} 4 2\n",
      "{'lecturer': 9, 'student_group': 2, 'course': 'CSL703'} 4 3\n",
      "{'lecturer': 10, 'student_group': 2, 'course': 'ILO70XX'} 4 4\n"
     ]
    }
   ],
   "source": [
    "slots = {}\n",
    "for day in range(no_of_days):\n",
    "    for hour in range(no_of_hours):\n",
    "        flag = False\n",
    "        for lecture in lectures:\n",
    "            if rows[lecture[0]]['day'] == day and rows[lecture[0]]['hour'] == hour:\n",
    "                flag = True\n",
    "#                 if hour in slots:\n",
    "                print(columns[lecture[1]], day, hour)\n",
    "#                     slots[hour].append(str(columns[le]))\n",
    "                if hour in slots:\n",
    "                    slots[hour].append(columns[lecture[1]])\n",
    "                else:\n",
    "                    slots[hour] = [columns[lecture[1]]]\n",
    "        if flag == False:\n",
    "            if hour in slots:\n",
    "                    slots[hour].append(\"Free\")\n",
    "            else:\n",
    "                slots[hour] = [\"Free\"]"
   ]
  },
  {
   "cell_type": "code",
   "execution_count": 39,
   "metadata": {},
   "outputs": [
    {
     "data": {
      "text/plain": [
       "{0: [{'lecturer': 7, 'student_group': 2, 'course': 'CSL702'},\n",
       "  'Free',\n",
       "  {'lecturer': 8, 'student_group': 2, 'course': 'CSL701'},\n",
       "  {'lecturer': 8, 'student_group': 2, 'course': 'CSL701'},\n",
       "  {'lecturer': 9, 'student_group': 2, 'course': 'CSL703'}],\n",
       " 1: [{'lecturer': 10, 'student_group': 2, 'course': 'CSDL70X'},\n",
       "  {'lecturer': 7, 'student_group': 2, 'course': 'CSL702'},\n",
       "  {'lecturer': 10, 'student_group': 2, 'course': 'CSDL70X'},\n",
       "  {'lecturer': 10, 'student_group': 2, 'course': 'ILO70XX'},\n",
       "  {'lecturer': 10, 'student_group': 2, 'course': 'ILO70XX'}],\n",
       " 2: [{'lecturer': 7, 'student_group': 2, 'course': 'CSL702'},\n",
       "  {'lecturer': 10, 'student_group': 2, 'course': 'CSDL70X'},\n",
       "  {'lecturer': 9, 'student_group': 2, 'course': 'CSL703'},\n",
       "  {'lecturer': 7, 'student_group': 2, 'course': 'CSL702'},\n",
       "  {'lecturer': 9, 'student_group': 2, 'course': 'CSL703'}],\n",
       " 3: [{'lecturer': 8, 'student_group': 2, 'course': 'CSL701'},\n",
       "  'Free',\n",
       "  {'lecturer': 8, 'student_group': 2, 'course': 'CSL701'},\n",
       "  {'lecturer': 8, 'student_group': 2, 'course': 'CSL701'},\n",
       "  {'lecturer': 9, 'student_group': 2, 'course': 'CSL703'}],\n",
       " 4: ['Free',\n",
       "  {'lecturer': 9, 'student_group': 2, 'course': 'CSL703'},\n",
       "  {'lecturer': 10, 'student_group': 2, 'course': 'ILO70XX'},\n",
       "  'Free',\n",
       "  {'lecturer': 10, 'student_group': 2, 'course': 'ILO70XX'}],\n",
       " 5: [{'lecturer': 7, 'student_group': 2, 'course': 'CSL702'},\n",
       "  {'lecturer': 10, 'student_group': 2, 'course': 'CSDL70X'},\n",
       "  {'lecturer': 10, 'student_group': 2, 'course': 'ILO70XX'},\n",
       "  {'lecturer': 10, 'student_group': 2, 'course': 'CSDL70X'},\n",
       "  'Free']}"
      ]
     },
     "execution_count": 39,
     "metadata": {},
     "output_type": "execute_result"
    }
   ],
   "source": [
    "slots"
   ]
  },
  {
   "cell_type": "code",
   "execution_count": 40,
   "metadata": {},
   "outputs": [
    {
     "name": "stdout",
     "output_type": "stream",
     "text": [
      "{'lecturer': 7, 'student_group': 2, 'course': 'CSL702'}\n",
      "Amiya Kumar Tripathy MCC \n",
      "Free\n",
      "{'lecturer': 8, 'student_group': 2, 'course': 'CSL701'}\n",
      "Dipti Jadhav DSIP \n",
      "{'lecturer': 8, 'student_group': 2, 'course': 'CSL701'}\n",
      "Dipti Jadhav DSIP \n",
      "{'lecturer': 9, 'student_group': 2, 'course': 'CSL703'}\n",
      "Kalpita Wagaskar AISC \n",
      "{'lecturer': 10, 'student_group': 2, 'course': 'CSDL70X'}\n",
      "Others Dept Level Elective \n",
      "{'lecturer': 7, 'student_group': 2, 'course': 'CSL702'}\n",
      "Amiya Kumar Tripathy MCC \n",
      "{'lecturer': 10, 'student_group': 2, 'course': 'CSDL70X'}\n",
      "Others Dept Level Elective \n",
      "{'lecturer': 10, 'student_group': 2, 'course': 'ILO70XX'}\n",
      "Others Inst Level Elective \n",
      "{'lecturer': 10, 'student_group': 2, 'course': 'ILO70XX'}\n",
      "Others Inst Level Elective \n",
      "{'lecturer': 7, 'student_group': 2, 'course': 'CSL702'}\n",
      "Amiya Kumar Tripathy MCC \n",
      "{'lecturer': 10, 'student_group': 2, 'course': 'CSDL70X'}\n",
      "Others Dept Level Elective \n",
      "{'lecturer': 9, 'student_group': 2, 'course': 'CSL703'}\n",
      "Kalpita Wagaskar AISC \n",
      "{'lecturer': 7, 'student_group': 2, 'course': 'CSL702'}\n",
      "Amiya Kumar Tripathy MCC \n",
      "{'lecturer': 9, 'student_group': 2, 'course': 'CSL703'}\n",
      "Kalpita Wagaskar AISC \n",
      "{'lecturer': 8, 'student_group': 2, 'course': 'CSL701'}\n",
      "Dipti Jadhav DSIP \n",
      "Free\n",
      "{'lecturer': 8, 'student_group': 2, 'course': 'CSL701'}\n",
      "Dipti Jadhav DSIP \n",
      "{'lecturer': 8, 'student_group': 2, 'course': 'CSL701'}\n",
      "Dipti Jadhav DSIP \n",
      "{'lecturer': 9, 'student_group': 2, 'course': 'CSL703'}\n",
      "Kalpita Wagaskar AISC \n",
      "Free\n",
      "{'lecturer': 9, 'student_group': 2, 'course': 'CSL703'}\n",
      "Kalpita Wagaskar AISC \n",
      "{'lecturer': 10, 'student_group': 2, 'course': 'ILO70XX'}\n",
      "Others Inst Level Elective \n",
      "Free\n",
      "{'lecturer': 10, 'student_group': 2, 'course': 'ILO70XX'}\n",
      "Others Inst Level Elective \n",
      "{'lecturer': 7, 'student_group': 2, 'course': 'CSL702'}\n",
      "Amiya Kumar Tripathy MCC \n",
      "{'lecturer': 10, 'student_group': 2, 'course': 'CSDL70X'}\n",
      "Others Dept Level Elective \n",
      "{'lecturer': 10, 'student_group': 2, 'course': 'ILO70XX'}\n",
      "Others Inst Level Elective \n",
      "{'lecturer': 10, 'student_group': 2, 'course': 'CSDL70X'}\n",
      "Others Dept Level Elective \n",
      "Free\n"
     ]
    }
   ],
   "source": [
    "for slot in slots:\n",
    "    list_of_slot = slots[slot]\n",
    "#     print(list_of_slot)\n",
    "    temp_list = []\n",
    "    for i in range(len(list_of_slot)):\n",
    "        print(list_of_slot[i])\n",
    "        if list_of_slot[i] is \"Free\":\n",
    "            temp_list.append(\"Free\")\n",
    "        else:\n",
    "            temp_lecturer = list_of_slot[i][\"lecturer\"]\n",
    "            temp_course = list_of_slot[i][\"course\"]\n",
    "            string = \"\"\n",
    "            for lecturer in lecturer_list:\n",
    "                if lecturer.id == temp_lecturer:\n",
    "                    string+=lecturer.name + \" \"\n",
    "\n",
    "            for course in course_list:\n",
    "                if course.id == temp_course:\n",
    "                    string+=course.name + \" \"\n",
    "            print(string)\n",
    "            temp_list.append(string)\n",
    "    slots[slot] = temp_list"
   ]
  },
  {
   "cell_type": "code",
   "execution_count": 43,
   "metadata": {},
   "outputs": [
    {
     "data": {
      "text/plain": [
       "{0: ['Amiya Kumar Tripathy MCC ',\n",
       "  'Free',\n",
       "  'Dipti Jadhav DSIP ',\n",
       "  'Dipti Jadhav DSIP ',\n",
       "  'Kalpita Wagaskar AISC '],\n",
       " 1: ['Others Dept Level Elective ',\n",
       "  'Amiya Kumar Tripathy MCC ',\n",
       "  'Others Dept Level Elective ',\n",
       "  'Others Inst Level Elective ',\n",
       "  'Others Inst Level Elective '],\n",
       " 2: ['Amiya Kumar Tripathy MCC ',\n",
       "  'Others Dept Level Elective ',\n",
       "  'Kalpita Wagaskar AISC ',\n",
       "  'Amiya Kumar Tripathy MCC ',\n",
       "  'Kalpita Wagaskar AISC '],\n",
       " 3: ['Dipti Jadhav DSIP ',\n",
       "  'Free',\n",
       "  'Dipti Jadhav DSIP ',\n",
       "  'Dipti Jadhav DSIP ',\n",
       "  'Kalpita Wagaskar AISC '],\n",
       " 4: ['Free',\n",
       "  'Kalpita Wagaskar AISC ',\n",
       "  'Others Inst Level Elective ',\n",
       "  'Free',\n",
       "  'Others Inst Level Elective '],\n",
       " 5: ['Amiya Kumar Tripathy MCC ',\n",
       "  'Others Dept Level Elective ',\n",
       "  'Others Inst Level Elective ',\n",
       "  'Others Dept Level Elective ',\n",
       "  'Free'],\n",
       " 'weekdays': ['Mon', 'Tue', 'Wed', 'Thur', 'Fri']}"
      ]
     },
     "execution_count": 43,
     "metadata": {},
     "output_type": "execute_result"
    }
   ],
   "source": [
    "slots"
   ]
  },
  {
   "cell_type": "code",
   "execution_count": 42,
   "metadata": {},
   "outputs": [],
   "source": [
    "slots[\"weekdays\"] = weekdays"
   ]
  },
  {
   "cell_type": "code",
   "execution_count": 41,
   "metadata": {},
   "outputs": [
    {
     "data": {
      "text/plain": [
       "{0: ['Amiya Kumar Tripathy MCC ',\n",
       "  'Free',\n",
       "  'Dipti Jadhav DSIP ',\n",
       "  'Dipti Jadhav DSIP ',\n",
       "  'Kalpita Wagaskar AISC '],\n",
       " 1: ['Others Dept Level Elective ',\n",
       "  'Amiya Kumar Tripathy MCC ',\n",
       "  'Others Dept Level Elective ',\n",
       "  'Others Inst Level Elective ',\n",
       "  'Others Inst Level Elective '],\n",
       " 2: ['Amiya Kumar Tripathy MCC ',\n",
       "  'Others Dept Level Elective ',\n",
       "  'Kalpita Wagaskar AISC ',\n",
       "  'Amiya Kumar Tripathy MCC ',\n",
       "  'Kalpita Wagaskar AISC '],\n",
       " 3: ['Dipti Jadhav DSIP ',\n",
       "  'Free',\n",
       "  'Dipti Jadhav DSIP ',\n",
       "  'Dipti Jadhav DSIP ',\n",
       "  'Kalpita Wagaskar AISC '],\n",
       " 4: ['Free',\n",
       "  'Kalpita Wagaskar AISC ',\n",
       "  'Others Inst Level Elective ',\n",
       "  'Free',\n",
       "  'Others Inst Level Elective '],\n",
       " 5: ['Amiya Kumar Tripathy MCC ',\n",
       "  'Others Dept Level Elective ',\n",
       "  'Others Inst Level Elective ',\n",
       "  'Others Dept Level Elective ',\n",
       "  'Free']}"
      ]
     },
     "execution_count": 41,
     "metadata": {},
     "output_type": "execute_result"
    }
   ],
   "source": [
    "slots"
   ]
  },
  {
   "cell_type": "code",
   "execution_count": 44,
   "metadata": {},
   "outputs": [],
   "source": [
    "import pandas as pd\n",
    "df = pd.DataFrame(slots)"
   ]
  },
  {
   "cell_type": "code",
   "execution_count": 45,
   "metadata": {},
   "outputs": [
    {
     "data": {
      "text/html": [
       "<div>\n",
       "<style scoped>\n",
       "    .dataframe tbody tr th:only-of-type {\n",
       "        vertical-align: middle;\n",
       "    }\n",
       "\n",
       "    .dataframe tbody tr th {\n",
       "        vertical-align: top;\n",
       "    }\n",
       "\n",
       "    .dataframe thead th {\n",
       "        text-align: right;\n",
       "    }\n",
       "</style>\n",
       "<table border=\"1\" class=\"dataframe\">\n",
       "  <thead>\n",
       "    <tr style=\"text-align: right;\">\n",
       "      <th></th>\n",
       "      <th>0</th>\n",
       "      <th>1</th>\n",
       "      <th>2</th>\n",
       "      <th>3</th>\n",
       "      <th>4</th>\n",
       "      <th>5</th>\n",
       "    </tr>\n",
       "    <tr>\n",
       "      <th>weekdays</th>\n",
       "      <th></th>\n",
       "      <th></th>\n",
       "      <th></th>\n",
       "      <th></th>\n",
       "      <th></th>\n",
       "      <th></th>\n",
       "    </tr>\n",
       "  </thead>\n",
       "  <tbody>\n",
       "    <tr>\n",
       "      <th>Mon</th>\n",
       "      <td>Amiya Kumar Tripathy MCC</td>\n",
       "      <td>Others Dept Level Elective</td>\n",
       "      <td>Amiya Kumar Tripathy MCC</td>\n",
       "      <td>Dipti Jadhav DSIP</td>\n",
       "      <td>Free</td>\n",
       "      <td>Amiya Kumar Tripathy MCC</td>\n",
       "    </tr>\n",
       "    <tr>\n",
       "      <th>Tue</th>\n",
       "      <td>Free</td>\n",
       "      <td>Amiya Kumar Tripathy MCC</td>\n",
       "      <td>Others Dept Level Elective</td>\n",
       "      <td>Free</td>\n",
       "      <td>Kalpita Wagaskar AISC</td>\n",
       "      <td>Others Dept Level Elective</td>\n",
       "    </tr>\n",
       "    <tr>\n",
       "      <th>Wed</th>\n",
       "      <td>Dipti Jadhav DSIP</td>\n",
       "      <td>Others Dept Level Elective</td>\n",
       "      <td>Kalpita Wagaskar AISC</td>\n",
       "      <td>Dipti Jadhav DSIP</td>\n",
       "      <td>Others Inst Level Elective</td>\n",
       "      <td>Others Inst Level Elective</td>\n",
       "    </tr>\n",
       "    <tr>\n",
       "      <th>Thur</th>\n",
       "      <td>Dipti Jadhav DSIP</td>\n",
       "      <td>Others Inst Level Elective</td>\n",
       "      <td>Amiya Kumar Tripathy MCC</td>\n",
       "      <td>Dipti Jadhav DSIP</td>\n",
       "      <td>Free</td>\n",
       "      <td>Others Dept Level Elective</td>\n",
       "    </tr>\n",
       "    <tr>\n",
       "      <th>Fri</th>\n",
       "      <td>Kalpita Wagaskar AISC</td>\n",
       "      <td>Others Inst Level Elective</td>\n",
       "      <td>Kalpita Wagaskar AISC</td>\n",
       "      <td>Kalpita Wagaskar AISC</td>\n",
       "      <td>Others Inst Level Elective</td>\n",
       "      <td>Free</td>\n",
       "    </tr>\n",
       "  </tbody>\n",
       "</table>\n",
       "</div>"
      ],
      "text/plain": [
       "                                  0                            1  \\\n",
       "weekdays                                                           \n",
       "Mon       Amiya Kumar Tripathy MCC   Others Dept Level Elective    \n",
       "Tue                            Free    Amiya Kumar Tripathy MCC    \n",
       "Wed              Dipti Jadhav DSIP   Others Dept Level Elective    \n",
       "Thur             Dipti Jadhav DSIP   Others Inst Level Elective    \n",
       "Fri          Kalpita Wagaskar AISC   Others Inst Level Elective    \n",
       "\n",
       "                                    2                       3  \\\n",
       "weekdays                                                        \n",
       "Mon         Amiya Kumar Tripathy MCC       Dipti Jadhav DSIP    \n",
       "Tue       Others Dept Level Elective                     Free   \n",
       "Wed            Kalpita Wagaskar AISC       Dipti Jadhav DSIP    \n",
       "Thur        Amiya Kumar Tripathy MCC       Dipti Jadhav DSIP    \n",
       "Fri            Kalpita Wagaskar AISC   Kalpita Wagaskar AISC    \n",
       "\n",
       "                                    4                            5  \n",
       "weekdays                                                            \n",
       "Mon                              Free    Amiya Kumar Tripathy MCC   \n",
       "Tue            Kalpita Wagaskar AISC   Others Dept Level Elective   \n",
       "Wed       Others Inst Level Elective   Others Inst Level Elective   \n",
       "Thur                             Free  Others Dept Level Elective   \n",
       "Fri       Others Inst Level Elective                          Free  "
      ]
     },
     "execution_count": 45,
     "metadata": {},
     "output_type": "execute_result"
    }
   ],
   "source": [
    "df.set_index('weekdays') "
   ]
  },
  {
   "cell_type": "code",
   "execution_count": 46,
   "metadata": {},
   "outputs": [],
   "source": [
    "df.to_csv(r'C:\\Prayuj Folders\\BE_PROJECT\\BEComps.csv')"
   ]
  },
  {
   "cell_type": "code",
   "execution_count": null,
   "metadata": {},
   "outputs": [],
   "source": []
  }
 ],
 "metadata": {
  "kernelspec": {
   "display_name": "Python 3",
   "language": "python",
   "name": "python3"
  },
  "language_info": {
   "codemirror_mode": {
    "name": "ipython",
    "version": 3
   },
   "file_extension": ".py",
   "mimetype": "text/x-python",
   "name": "python",
   "nbconvert_exporter": "python",
   "pygments_lexer": "ipython3",
   "version": "3.7.0"
  }
 },
 "nbformat": 4,
 "nbformat_minor": 2
}
